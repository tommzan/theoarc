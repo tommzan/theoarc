{
 "cells": [
  {
   "cell_type": "markdown",
   "metadata": {},
   "source": [
    "## collateX Analyse"
   ]
  },
  {
   "cell_type": "markdown",
   "metadata": {},
   "source": [
    "Für die weitere Analyse benötigen wir nun collateX, mit dessen Hilfe die mittels **textmatcher** gefundenen Überschneidungen visualisiert werden und in späteren Schritten in die Digitale Edition eingebunden werden sollen.\n",
    "Hierfür muss zu Beginn abermals eine Bibliothek importiert werden:"
   ]
  },
  {
   "cell_type": "code",
   "execution_count": null,
   "metadata": {},
   "outputs": [],
   "source": [
    "from collatex import *"
   ]
  },
  {
   "cell_type": "markdown",
   "metadata": {},
   "source": [
    "Anschließend daran wird eine Instanz erstellt:"
   ]
  },
  {
   "cell_type": "code",
   "execution_count": null,
   "metadata": {},
   "outputs": [],
   "source": [
    "collation = Collation()"
   ]
  },
  {
   "cell_type": "markdown",
   "metadata": {},
   "source": [
    "Hier ein kleines Beispiel um zu sehen ob alles richtig importiert wurde:"
   ]
  },
  {
   "cell_type": "code",
   "execution_count": null,
   "metadata": {},
   "outputs": [],
   "source": [
    "collation.add_plain_witness(\"A\", \"The quick brown fox jumps over the dog.\")\n",
    "collation.add_plain_witness(\"B\", \"The brown fox jumps over the lazy dog.\")\n",
    "alignment_table = collate(collation)\n",
    "print(alignment_table)"
   ]
  },
  {
   "cell_type": "markdown",
   "metadata": {},
   "source": [
    "Nun übergeben wir einen miteinander übereinstimmenden Ausschnitt der Theosophia sowie Arcana, um die Gemeinsamkeiten uns ausgeben zu lassen:"
   ]
  },
  {
   "cell_type": "code",
   "execution_count": null,
   "metadata": {},
   "outputs": [],
   "source": [
    "collation = Collation()"
   ]
  },
  {
   "cell_type": "code",
   "execution_count": null,
   "metadata": {},
   "outputs": [],
   "source": [
    "witness_theo1 = open( \"fixtures/theosophia_188490_189384.txt\", encoding='utf-8' ).read()\n",
    "witness_arc2 = open( \"fixtures/arcana_15052_15946.txt\", encoding='utf-8' ).read()"
   ]
  },
  {
   "cell_type": "code",
   "execution_count": null,
   "metadata": {},
   "outputs": [],
   "source": [
    "collation.add_plain_witness( \"THEO1\", witness_theo1 )\n",
    "collation.add_plain_witness( \"ARC2\", witness_arc2 )"
   ]
  },
  {
   "cell_type": "code",
   "execution_count": null,
   "metadata": {},
   "outputs": [],
   "source": [
    "alignment_table = collate(collation, layout='vertical', output='html')"
   ]
  },
  {
   "cell_type": "code",
   "execution_count": null,
   "metadata": {},
   "outputs": [],
   "source": [
    "alignment_table = collate(collation, output='html2')"
   ]
  },
  {
   "cell_type": "markdown",
   "metadata": {},
   "source": [
    "Nun wählen wir als Ausgabeformat **\"tei\"**, da wir jenes für die Darstellung der Digitalen Edition benötigen. Wir lassen uns daher gleich den Output in ein neu geschribenes XML-Dokument ausgeben, indem wir eines namens \"collate.xml\" innerhalb des Codes erstellen:"
   ]
  },
  {
   "cell_type": "code",
   "execution_count": null,
   "metadata": {},
   "outputs": [],
   "source": [
    "alignment_table = collate(collation, output='tei')\n",
    "with open ('collate.xml', 'w', encoding=\"utf-8\") as fh:\n",
    "    fh.write(alignment_table)\n",
    "#print(alignment_table)"
   ]
  },
  {
   "cell_type": "markdown",
   "metadata": {},
   "source": [
    "**Verweise:**\n",
    "\n",
    "_https://github.com/interedition/collatex/_\n",
    "\n",
    "_https://nbviewer.org/github/DiXiT-eu/collatex-tutorial/tree/master/_"
   ]
  }
 ],
 "metadata": {
  "language_info": {
   "name": "python"
  }
 },
 "nbformat": 4,
 "nbformat_minor": 2
}
