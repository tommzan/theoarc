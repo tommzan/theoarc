{
 "cells": [
  {
   "cell_type": "markdown",
   "metadata": {},
   "source": [
    "## collateX Analyse"
   ]
  },
  {
   "cell_type": "markdown",
   "metadata": {},
   "source": [
    "Für die weitere Analyse benötigen wir nun collateX, mit dessen Hilfe die mittels **textmatcher** gefundenen Überschneidungen visualisiert werden und in späteren Schritten in die Digitale Edition eingebunden werden sollen.\n",
    "Hierfür muss zu Beginn abermals eine Bibliothek importiert werden:"
   ]
  },
  {
   "cell_type": "code",
   "execution_count": 1,
   "metadata": {},
   "outputs": [],
   "source": [
    "from collatex import *"
   ]
  },
  {
   "cell_type": "markdown",
   "metadata": {},
   "source": [
    "Anschließend daran wird eine Instanz erstellt:"
   ]
  },
  {
   "cell_type": "code",
   "execution_count": 27,
   "metadata": {},
   "outputs": [],
   "source": [
    "collation = Collation()"
   ]
  },
  {
   "cell_type": "markdown",
   "metadata": {},
   "source": [
    "Nun wählen wir als Ausgabeformat **\"tei\"**, da wir das TEI-XML-Format für die potenzielle Einbindung und Darstellung innerhalb der Digitalen Edition benötigen. Wir lassen uns daher gleich den Output in ein neu geschribenes XML-Dokument ausgeben, indem wir eines namens **\"collate_capXY_matchXY.xml\"** innerhalb des Codes erstellen. Zuvor müssen wir noch die zuvor von text-matcher erkannten matches dem Code einzeln manuell übergeben:\n",
    "\n",
    "Der Name der Datei kann anschließend für jeden match neu adaptiert werden, sodass stets eine neue Datei angelegt wird."
   ]
  },
  {
   "cell_type": "code",
   "execution_count": 52,
   "metadata": {},
   "outputs": [],
   "source": [
    "collation = Collation()\n",
    "collation.add_plain_witness(\"THEO1\", \"Nuncius interpres Cijllenius omnibus ipse est; Nijmphae aqua sunt, frumenta Ceres, Vulcanus at ignis Est mare Neptunus canentia littora pulsans, Mars bellum, pax alma Venus, mortalibus ipse Taurigena, et superis animi curaeque levamen, corniger est Bacchus\")\n",
    "collation.add_plain_witness(\"ARC2\", \"Nuncius interpres Cijllenius omnibus ipse est. Nijmphae aqua sunt, frumenta Ceres, Vulcanus at ignis, Est mare Neptunus canentia littora pulsans. Mars bellum, Paxalma Venus, mortalibus ipse Taurigena et superis animi curaque levamen Corniger est Bacchus\")\n",
    "alignment_table = collate(collation, output='tei')\n",
    "with open ('collate_cap2_match1.xml', 'w', encoding=\"utf-8\") as fh:\n",
    "    fh.write(alignment_table)"
   ]
  },
  {
   "cell_type": "markdown",
   "metadata": {},
   "source": [
    "**Verweise:**\n",
    "\n",
    "_https://github.com/interedition/collatex/_\n",
    "\n",
    "_https://nbviewer.org/github/DiXiT-eu/collatex-tutorial/tree/master/_"
   ]
  }
 ],
 "metadata": {
  "kernelspec": {
   "display_name": "Python 3 (ipykernel)",
   "language": "python",
   "name": "python3"
  },
  "language_info": {
   "codemirror_mode": {
    "name": "ipython",
    "version": 3
   },
   "file_extension": ".py",
   "mimetype": "text/x-python",
   "name": "python",
   "nbconvert_exporter": "python",
   "pygments_lexer": "ipython3",
   "version": "3.9.12"
  }
 },
 "nbformat": 4,
 "nbformat_minor": 2
}
