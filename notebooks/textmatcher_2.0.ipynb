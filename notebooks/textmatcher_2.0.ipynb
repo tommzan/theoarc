{
 "cells": [
  {
   "cell_type": "markdown",
   "metadata": {},
   "source": [
    "## textmatcher 2.0"
   ]
  },
  {
   "cell_type": "markdown",
   "metadata": {},
   "source": [
    "In dieser Version wurde die basale Version im Notebook \"textmatcher_basic.ipynb\" ausgeweitet und dahingehend adaptiert, dass die Ergebnisse weiter verarbeitet werden können. Hierbei lassen wir uns den gesamten Ouput der Analyse (einmal nur die Tupel und einmal auch die Textpassagen) in eine jeweils neu angelegte Textdatei überschreiben.\n",
    "Die hier umgesetzte Methode iteriert mit Hilfe einer for-Schleife automatisch über die vorhandenen Textdateien im jeweiligen Ordner und speichert den erzeugten Output in der Textdatei **\"output_match_results\"**.\n",
    "Dafür importieren wir neben dem **matcher** auch noch **os** (https://docs.python.org/3/library/os.html) and **plt** von **matplotlib.pyplot** (https://matplotlib.org/stable/api/pyplot_summary.html) für die später vorgenommenen Analysen:"
   ]
  },
  {
   "cell_type": "code",
   "execution_count": null,
   "metadata": {},
   "outputs": [],
   "source": [
    "import os\n",
    "from text_matcher import matcher\n",
    "import matplotlib.pyplot as plt"
   ]
  },
  {
   "cell_type": "markdown",
   "metadata": {},
   "source": [
    "In der ersten Version können wir uns nur die Tupel der gefundenen matches mitsamt der vorangestellten Anzahl der matches ausgeben lassen. Dabei lassen wir uns auch immer den Namen der zum Vergleich herangezogen Textdatei angeben, um die Tupel richtig zuordnen zu können:"
   ]
  },
  {
   "cell_type": "code",
   "execution_count": null,
   "metadata": {},
   "outputs": [],
   "source": [
    "# Laden des Dokuments aus dem \"Theosophia\" Ordner (bleibt konstant dasselbe)\n",
    "theosophia_text = matcher.Text(open('theosophia/theosophia.txt', encoding='utf-8').read(), 'Theosophia')\n",
    "\n",
    "# Arcana Pfad definieren\n",
    "arcana_folder_path = 'arcana'\n",
    "\n",
    "# Anlegen des Dictionaries für Kapitelnamen und Anzahl der matches\n",
    "match_counts = {}\n",
    "\n",
    "#  output file öffnen und append Resultate\n",
    "with open('output_match_results.txt', 'a', encoding='utf-8') as output_file:\n",
    "    # Iteriere über alle Dokumente im Arcana Ordner\n",
    "    for arcana_file_name in os.listdir(arcana_folder_path):\n",
    "        arcana_file_path = os.path.join(arcana_folder_path, arcana_file_name)\n",
    "        \n",
    "        # Sicherstellung der Arbeit nur mit files\n",
    "        if os.path.isfile(arcana_file_path):\n",
    "            # Laden des derzeitigen Arcana files\n",
    "            arcana_text = matcher.Text(open(arcana_file_path, encoding='utf-8').read(), arcana_file_name)\n",
    "            \n",
    "            # match anwenden\n",
    "            result = matcher.Matcher(theosophia_text, arcana_text).match()\n",
    "            \n",
    "            # Nummer der matches extrahieren (erste Nummer im result tuple)\n",
    "            num_matches = result[0]\n",
    "            \n",
    "            # result in dictionary speichern mit Kapitelname als key\n",
    "            match_counts[arcana_file_name] = num_matches\n",
    "            \n",
    "            # result in output file schreiben\n",
    "            output_file.write(f\"Comparing Theosophia with {arcana_file_name}:\\n\")\n",
    "            output_file.write(str(result) + \"\\n\\n\")"
   ]
  },
  {
   "cell_type": "markdown",
   "metadata": {},
   "source": [
    "Darauf aufbauend lassen wir uns die entstandenen Ergbenisse mittels **plt** visualisieren. Hierbei stellen wir die Anzahl der gefundenen matches pro Kapitel als Säulendiagramm dar:"
   ]
  },
  {
   "cell_type": "code",
   "execution_count": null,
   "metadata": {},
   "outputs": [],
   "source": [
    "# Plotting von results\n",
    "chapters = [os.path.splitext(chapter)[0] for chapter in match_counts.keys()]\n",
    "matches = list(match_counts.values())\n",
    "\n",
    "plt.figure(figsize=(8, 6), facecolor='white')\n",
    "ax = plt.gca()  # aktuelle axes adressieren um properties zu ändern\n",
    "ax.set_facecolor('white')  # Hintergrundfarbe weiß für passende Darstellung\n",
    "\n",
    "plt.bar(chapters, matches, color='skyblue')\n",
    "plt.xlabel('Chapters of the Arcana')\n",
    "plt.ylabel('Number of Matches')\n",
    "plt.title('Number of Matches per Chapter with the Theosophia')\n",
    "plt.xticks(rotation=90, ha='right')  # rotieren der chapter names für bessere Lesbarkeit\n",
    "plt.tight_layout()  # Layout-Anpassung\n",
    "\n",
    "plt.savefig('match_counts_graph.png', format='png', dpi=100, facecolor='white')\n",
    "\n",
    "plt.show()"
   ]
  },
  {
   "cell_type": "markdown",
   "metadata": {},
   "source": [
    "Als Nächstes sollen zunächst anstelle der Tupel die übereinstimmenden Textpassagen in die Textdatei geschrieben werden. Anschließend daran wird die Länge der gegebenen und vorgefundenen Matches mit der Länge der jeweiligen Kapitel der Arcana verglichen und in einem Graph dargestellt. Daran wird ersichtlich welch großer oder kleiner Anteil des jeweiligen Kapitels ebenso in der Theosophia vorkommt.\n",
    "\n",
    "Nochmals der gesamte Code:"
   ]
  },
  {
   "cell_type": "code",
   "execution_count": null,
   "metadata": {},
   "outputs": [],
   "source": [
    "# Laden des Dokuments aus dem \"Theosophia\" Ordner (bleibt konstant dasselbe)\n",
    "theosophia_raw_text = open('theosophia/theosophia.txt', encoding='utf-8').read()\n",
    "theosophia_text = matcher.Text(theosophia_raw_text, 'Theosophia')\n",
    "\n",
    "# Arcana Pfad definieren\n",
    "arcana_folder_path = 'arcana'\n",
    "\n",
    "# Anlegen der beiden Dictionaries für match lengths und Kapitellänge\n",
    "match_lengths = {}\n",
    "chapter_lengths = {}\n",
    "\n",
    "# output file öffnen und append Resultate\n",
    "with open('text_output_match_results.txt', 'a', encoding='utf-8') as output_file:\n",
    "    # Iteriere über alle Dokumente im Arcana Ordner\n",
    "    for arcana_file_name in os.listdir(arcana_folder_path):\n",
    "        arcana_file_path = os.path.join(arcana_folder_path, arcana_file_name)\n",
    "        \n",
    "        # Sicherstellung der Arbeit nur mit files\n",
    "        if os.path.isfile(arcana_file_path):\n",
    "            # Laden des derzeitigen Arcana files\n",
    "            arcana_raw_text = open(arcana_file_path, encoding='utf-8').read()\n",
    "            arcana_text = matcher.Text(arcana_raw_text, arcana_file_name)\n",
    "            \n",
    "            # match anwenden\n",
    "            result = matcher.Matcher(theosophia_text, arcana_text).match()\n",
    "            \n",
    "            # Unpack result\n",
    "            match_count, theosophia_matches, arcana_matches = result\n",
    "            \n",
    "            # folgenden header für Vergleich in output file schreiben\n",
    "            output_file.write(f\"Comparing Theosophia with {arcana_file_name}:\\n\")\n",
    "            output_file.write(f\"Number of Matches: {match_count}\\n\\n\")\n",
    "            \n",
    "            # length counters\n",
    "            total_match_length = 0\n",
    "            total_chapter_length = len(arcana_raw_text)  # Länge des gesamten Kapitels\n",
    "            \n",
    "            # über matches iterieren\n",
    "            for theosophia_match, arcana_match in zip(theosophia_matches, arcana_matches):\n",
    "                start_theosophia, end_theosophia = theosophia_match\n",
    "                start_arcana, end_arcana = arcana_match\n",
    "                \n",
    "                # Extrahieren des matched text von beiden Texten\n",
    "                matched_text_theosophia = theosophia_raw_text[start_theosophia:end_theosophia]\n",
    "                matched_text_arcana = arcana_raw_text[start_arcana:end_arcana]\n",
    "                \n",
    "                # Länge berechnen\n",
    "                match_length = len(matched_text_arcana)  # Länge des matched text\n",
    "                total_match_length += match_length\n",
    "                \n",
    "                # matched text passages in output file schreiben\n",
    "                output_file.write(\"Matched passage in Theosophia:\\n\")\n",
    "                output_file.write(matched_text_theosophia + \"\\n\\n\")\n",
    "                output_file.write(f\"Matched passage in {arcana_file_name}:\\n\")\n",
    "                output_file.write(matched_text_arcana + \"\\n\\n\")\n",
    "            \n",
    "            # beiden errechneten lengths speichern\n",
    "            match_lengths[arcana_file_name] = total_match_length\n",
    "            chapter_lengths[arcana_file_name] = total_chapter_length\n",
    "            \n",
    "            output_file.write(\"\\n\" + \"=\"*50 + \"\\n\\n\")  # Verbesserung der Lesbarkeit (Seperator)\n",
    "\n",
    "# Ergebnisse darstellen/visualisieren\n",
    "chapters = [os.path.splitext(chapter)[0] for chapter in match_counts.keys()] #list(chapter_lengths.keys())\n",
    "match_lengths_values = list(match_lengths.values())\n",
    "chapter_lengths_values = list(chapter_lengths.values())\n",
    "\n",
    "plt.figure(figsize=(8, 6), facecolor='white')\n",
    "x = range(len(chapters))\n",
    "ax = plt.gca()  # aktuelle axes adressieren um properties zu ändern\n",
    "ax.set_facecolor('white')  # Hintergrundfarbe weiß für passende Darstellung\n",
    "\n",
    "# bar plot für matched lengths\n",
    "plt.bar(x, match_lengths_values, width=0.4, label='Length of Matches', color='skyblue', align='center')\n",
    "# bar plot für chapter lengths\n",
    "plt.bar([p + 0.4 for p in x], chapter_lengths_values, width=0.4, label='Total Chapter Length', color='lightcoral', align='center')\n",
    "\n",
    "plt.xlabel('Chapters of the Arcana')\n",
    "plt.ylabel('Length (Characters)')\n",
    "plt.title('Length of Matches vs. Total Chapter Length')\n",
    "plt.xticks([p + 0.2 for p in x], chapters, rotation=45, ha='right')\n",
    "plt.legend()\n",
    "plt.tight_layout()\n",
    "plt.savefig('match_lengths_comparison.png', format='png', dpi=100, facecolor='white')\n",
    "plt.show()"
   ]
  }
 ],
 "metadata": {
  "language_info": {
   "name": "python"
  }
 },
 "nbformat": 4,
 "nbformat_minor": 2
}
