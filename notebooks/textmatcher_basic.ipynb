{
 "cells": [
  {
   "cell_type": "markdown",
   "metadata": {},
   "source": [
    "## textmatcher - basic"
   ]
  },
  {
   "cell_type": "markdown",
   "metadata": {},
   "source": [
    "Für die Verwendung von **textmatcher** (siehe dazu unter anderem: https://github.com/JonathanReeve/text-matcher/blob/master/examples/jupyter-example.ipynbmuss, dort ist auch ein simples Tutorial verfügbar) muss zuallererst das entsprechende Modul installiert werden. Dies kann, sofern Python bereits installiert wurde, mit folgendem simplen Befehl ausgeführt werden:"
   ]
  },
  {
   "cell_type": "code",
   "execution_count": null,
   "metadata": {},
   "outputs": [],
   "source": [
    "pip install textmatcher"
   ]
  },
  {
   "cell_type": "markdown",
   "metadata": {},
   "source": [
    "Nun beginnen wir mit unseren Daten. Die Daten wurden in vorangegangenen Schritten des Preprocessings an die gegebenen Anforderungen angepasst und adaptiert. Dahingehend wurden nach dem Transkribus-Export die Textpassagen zu einem großen Text verbunden, Streichungen im Falle der Theosophia entfernt, Abbreviaturen aufgelöst und die Kodierungsrichtlinien auf Zeichenebene aneinander angepasst.\n",
    "Weiters wurde das Druckwerk der Arcana Arcanissima in die gegebenen Kapitel (Kapitel 1-6) unterteilt, um zu sehen in welchen Kapiteln die größten Übereinstimmungen mit der Theosophia bestehen. Außerdem können auf diese Weise kleinere Textpassagen textmatcher übergeben werden, was vor allem die nachfolgende Weiterverarbietung mit **collateX** erleichtert.\n",
    "Hier werden nun die Theosophia sowie die ausgewählten Kapitel der Arcana nacheinander für den Vergleich den Variablen **ta** und **tb** übergeben:"
   ]
  },
  {
   "cell_type": "markdown",
   "metadata": {},
   "source": [
    "Für die Analyse müssen wir noch den **\"matcher\"** von text_matcher importieren:"
   ]
  },
  {
   "cell_type": "code",
   "execution_count": null,
   "metadata": {},
   "outputs": [],
   "source": [
    "from text_matcher import matcher"
   ]
  },
  {
   "cell_type": "markdown",
   "metadata": {},
   "source": [
    "Hierbei übergeben wir den Inhalt, der zuvor erstellten Textdateien, welche über den jeweiligen Ordnerpfad angesprochen werden, zwei Variablen. Außerdem geben wir das Encoding an und vergeben einen Namen für den jeweiligen Text."
   ]
  },
  {
   "cell_type": "markdown",
   "metadata": {},
   "source": [
    "**Kapitel 1:**"
   ]
  },
  {
   "cell_type": "code",
   "execution_count": null,
   "metadata": {},
   "outputs": [],
   "source": [
    "ta = matcher.Text(open('theosophia/theosophia.txt', encoding='utf-8').read(), 'Theosophia')\n",
    "tb = matcher.Text(open('arcana/arcana_cap_1.txt', encoding='utf-8').read(), 'Arcana_1')"
   ]
  },
  {
   "cell_type": "code",
   "execution_count": null,
   "metadata": {},
   "outputs": [],
   "source": [
    "matcher.Matcher(ta, tb).match()"
   ]
  },
  {
   "cell_type": "markdown",
   "metadata": {},
   "source": [
    "**Kapitel 2:**"
   ]
  },
  {
   "cell_type": "code",
   "execution_count": null,
   "metadata": {},
   "outputs": [],
   "source": [
    "ta = matcher.Text(open('theosophia/theosophia.txt', encoding='utf-8').read(), 'Theosophia')\n",
    "tc = matcher.Text(open('arcana/arcana_cap_2.txt', encoding='utf-8').read(), 'Arcana_2')"
   ]
  },
  {
   "cell_type": "code",
   "execution_count": null,
   "metadata": {},
   "outputs": [],
   "source": [
    "matcher.Matcher(ta, tc).match()"
   ]
  },
  {
   "cell_type": "markdown",
   "metadata": {},
   "source": [
    "**Kapitel 3:**"
   ]
  },
  {
   "cell_type": "code",
   "execution_count": null,
   "metadata": {},
   "outputs": [],
   "source": [
    "ta = matcher.Text(open('theosophia/theosophia.txt', encoding='utf-8').read(), 'Theosophia')\n",
    "td = matcher.Text(open('arcana/arcana_cap_3.txt', encoding='utf-8').read(), 'Arcana_3')"
   ]
  },
  {
   "cell_type": "code",
   "execution_count": null,
   "metadata": {},
   "outputs": [],
   "source": [
    "matcher.Matcher(ta, td).match()"
   ]
  },
  {
   "cell_type": "markdown",
   "metadata": {},
   "source": [
    "**Kapitel 4:**"
   ]
  },
  {
   "cell_type": "code",
   "execution_count": null,
   "metadata": {},
   "outputs": [],
   "source": [
    "ta = matcher.Text(open('theosophia/theosophia.txt', encoding='utf-8').read(), 'Theosophia')\n",
    "te = matcher.Text(open('arcana/arcana_cap_4.txt', encoding='utf-8').read(), 'Arcana_4')"
   ]
  },
  {
   "cell_type": "code",
   "execution_count": null,
   "metadata": {},
   "outputs": [],
   "source": [
    "matcher.Matcher(ta, te).match()"
   ]
  },
  {
   "cell_type": "markdown",
   "metadata": {},
   "source": [
    "**Kapitel 5:**"
   ]
  },
  {
   "cell_type": "code",
   "execution_count": null,
   "metadata": {},
   "outputs": [],
   "source": [
    "ta = matcher.Text(open('theosophia/theosophia.txt', encoding='utf-8').read(), 'Theosophia')\n",
    "tf = matcher.Text(open('arcana/arcana_cap_5.txt', encoding='utf-8').read(), 'Arcana_5')"
   ]
  },
  {
   "cell_type": "code",
   "execution_count": null,
   "metadata": {},
   "outputs": [],
   "source": [
    "matcher.Matcher(ta, tf).match()"
   ]
  },
  {
   "cell_type": "markdown",
   "metadata": {},
   "source": [
    "**Kapitel 6:**"
   ]
  },
  {
   "cell_type": "code",
   "execution_count": null,
   "metadata": {},
   "outputs": [],
   "source": [
    "ta = matcher.Text(open('theosophia/theosophia.txt', encoding='utf-8').read(), 'Theosophia')\n",
    "tg = matcher.Text(open('arcana/arcana_cap_6.txt', encoding='utf-8').read(), 'Arcana_6')"
   ]
  },
  {
   "cell_type": "code",
   "execution_count": null,
   "metadata": {},
   "outputs": [],
   "source": [
    "matcher.Matcher(ta, tg).match()"
   ]
  },
  {
   "cell_type": "markdown",
   "metadata": {},
   "source": [
    "**Verweis:**\n",
    "\n",
    "_Reeve, Jonathan: Text-Matcher, GitHub repository https://github.com/JonathanReeve/text-matcher, 2020.  doi: 10.5281/zenodo.3937738_"
   ]
  }
 ],
 "metadata": {
  "language_info": {
   "name": "python"
  }
 },
 "nbformat": 4,
 "nbformat_minor": 2
}
